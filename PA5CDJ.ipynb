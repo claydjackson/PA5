{
 "cells": [
  {
   "cell_type": "markdown",
   "id": "3474a086",
   "metadata": {},
   "source": [
    "### PA5 Clay Jackson, Version 1, CS 150 Spring 2023"
   ]
  },
  {
   "cell_type": "code",
   "execution_count": 1,
   "id": "7d974bf0",
   "metadata": {},
   "outputs": [
    {
     "name": "stdout",
     "output_type": "stream",
     "text": [
      "Enter a word to translate from English to Spanish\n",
      "Enter 0 to exit.\n",
      "Enter an English word: door\n",
      "The Spanish word for'door' is 'puerto'.\n",
      "Enter an English word: car\n",
      "'car' is not in the dictionary.\n",
      "Enter an English word: 0\n",
      "You have stopped this program.\n"
     ]
    }
   ],
   "source": [
    "Lang={'door':'puerto','couch':'sofa','chair':'sila',\n",
    "      'table':'mesa', 'toliet':'bano', 'TV':'tele',\n",
    "      'phone':'telefono', 'floor':'piso','wall':'muro','ceiling':'teco'}\n",
    "print(\"Enter a word to translate from English to Spanish\")\n",
    "print(\"Enter 0 to exit.\")\n",
    "\n",
    "while True:\n",
    "    word = input(\"Enter an English word: \")\n",
    "    if word == \"0\":\n",
    "        print(\"You have stopped this program.\")\n",
    "        break\n",
    "    if word in Lang:\n",
    "        print(f\"The Spanish word for'{word}' is '{Lang[word]}'.\")\n",
    "    else:\n",
    "        print(f\"'{word}' is not in the dictionary.\")"
   ]
  },
  {
   "cell_type": "code",
   "execution_count": 2,
   "id": "7726ae5a",
   "metadata": {},
   "outputs": [],
   "source": [
    "Jan={1:59,2:63,3:57,4:66,5:48,6:43,7:48,8:41,9:43,10:52,11:55,12:57,13:39,14:37,15:43,16:46,17:61,18:50,19:63,20:39,21:41,22:37,23:39,24:46,25:46,26:36,27:46,28:55,29:48,30:36,31:30}"
   ]
  },
  {
   "cell_type": "code",
   "execution_count": 3,
   "id": "a19b0d46",
   "metadata": {},
   "outputs": [
    {
     "data": {
      "text/plain": [
       "{1: 59,\n",
       " 2: 63,\n",
       " 3: 57,\n",
       " 4: 66,\n",
       " 5: 48,\n",
       " 6: 43,\n",
       " 7: 48,\n",
       " 8: 41,\n",
       " 9: 43,\n",
       " 10: 52,\n",
       " 11: 55,\n",
       " 12: 57,\n",
       " 13: 39,\n",
       " 14: 37,\n",
       " 15: 43,\n",
       " 16: 46,\n",
       " 17: 61,\n",
       " 18: 50,\n",
       " 19: 63,\n",
       " 20: 39,\n",
       " 21: 41,\n",
       " 22: 37,\n",
       " 23: 39,\n",
       " 24: 46,\n",
       " 25: 46,\n",
       " 26: 36,\n",
       " 27: 46,\n",
       " 28: 55,\n",
       " 29: 48,\n",
       " 30: 36,\n",
       " 31: 30}"
      ]
     },
     "execution_count": 3,
     "metadata": {},
     "output_type": "execute_result"
    }
   ],
   "source": [
    "Jan"
   ]
  },
  {
   "cell_type": "code",
   "execution_count": 5,
   "id": "6c54a2ab",
   "metadata": {},
   "outputs": [
    {
     "name": "stdout",
     "output_type": "stream",
     "text": [
      "{1: -9, 2: -8, 3: -10, 4: -7, 5: -13, 6: -14, 7: -13, 8: -15, 9: -14, 10: -12, 11: -11, 12: -10, 13: -16, 14: -16, 15: -14, 16: -13, 17: -9, 18: -12, 19: -8, 20: -16, 21: -15, 22: -16, 23: -16, 24: -13, 25: -13, 26: -17, 27: -13, 28: -11, 29: -13, 30: -17, 31: -18}\n"
     ]
    }
   ],
   "source": [
    "for key in Jan:\n",
    "    Jan[key] = round((Jan[key] - 32) * 5/9,)\n",
    "print(Jan)"
   ]
  },
  {
   "cell_type": "code",
   "execution_count": 6,
   "id": "0a41c1f5",
   "metadata": {},
   "outputs": [
    {
     "name": "stdout",
     "output_type": "stream",
     "text": [
      "{1: 1, 2: 4, 3: 9, 4: 16, 5: 25, 6: 36, 7: 49, 8: 64, 9: 81, 10: 100, 11: 121, 12: 144, 13: 169, 14: 196, 15: 225}\n"
     ]
    }
   ],
   "source": [
    "Numbers={}\n",
    "i=1\n",
    "while i<=15:\n",
    "    Numbers.update({i:i**2})\n",
    "    i+=1\n",
    "print(Numbers)"
   ]
  },
  {
   "cell_type": "code",
   "execution_count": null,
   "id": "907cfb4a",
   "metadata": {},
   "outputs": [],
   "source": []
  }
 ],
 "metadata": {
  "kernelspec": {
   "display_name": "Python 3 (ipykernel)",
   "language": "python",
   "name": "python3"
  },
  "language_info": {
   "codemirror_mode": {
    "name": "ipython",
    "version": 3
   },
   "file_extension": ".py",
   "mimetype": "text/x-python",
   "name": "python",
   "nbconvert_exporter": "python",
   "pygments_lexer": "ipython3",
   "version": "3.9.13"
  }
 },
 "nbformat": 4,
 "nbformat_minor": 5
}
